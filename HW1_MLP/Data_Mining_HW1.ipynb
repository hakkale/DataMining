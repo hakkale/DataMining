{
  "nbformat": 4,
  "nbformat_minor": 0,
  "metadata": {
    "colab": {
      "provenance": [],
      "gpuType": "T4"
    },
    "kernelspec": {
      "name": "python3",
      "display_name": "Python 3"
    },
    "language_info": {
      "name": "python"
    },
    "accelerator": "GPU"
  },
  "cells": [
    {
      "cell_type": "code",
      "source": [
        "import torch\n",
        "import torch.nn as nn\n",
        "import torch.optim as optim\n",
        "from torch.utils.data import Dataset, DataLoader\n",
        "import matplotlib.pyplot as plt\n",
        "from sklearn.model_selection import train_test_split\n",
        "import numpy as np\n",
        "\n",
        "torch.manual_seed(42)\n",
        "np.random.seed(42)"
      ],
      "metadata": {
        "id": "K5z4wCr-lBUD"
      },
      "execution_count": null,
      "outputs": []
    },
    {
      "cell_type": "code",
      "execution_count": null,
      "metadata": {
        "id": "RfPeN8B6beJF"
      },
      "outputs": [],
      "source": [
        "class DataGenerator(nn.Module):\n",
        "    \"\"\"\n",
        "    A simple data generator network that defines a relationship between input x and output y.\n",
        "    \"\"\"\n",
        "    def __init__(self, input_size=1, output_size=100, hidden_sizes=[5], activation='ReLU'):\n",
        "        super(DataGenerator, self).__init__()\n",
        "        layers = []\n",
        "        prev_size = input_size\n",
        "        act_fn = self.get_activation(activation)\n",
        "\n",
        "        for hidden_size in hidden_sizes:\n",
        "            layers.append(nn.Linear(prev_size, hidden_size))\n",
        "            layers.append(act_fn)\n",
        "            prev_size = hidden_size\n",
        "        layers.append(nn.Linear(prev_size, output_size))\n",
        "        self.network = nn.Sequential(*layers)\n",
        "\n",
        "    def get_activation(self, activation):\n",
        "        activations = {\n",
        "            'ReLU': nn.ReLU(),\n",
        "            'Sigmoid': nn.Sigmoid(),\n",
        "            'Tanh': nn.Tanh(),\n",
        "            'LeakyReLU': nn.LeakyReLU()\n",
        "        }\n",
        "        return activations.get(activation, nn.ReLU())\n",
        "\n",
        "    def forward(self, x):\n",
        "        return self.network(x)\n"
      ]
    },
    {
      "cell_type": "code",
      "source": [
        "class GeneratedDataset(Dataset):\n",
        "    \"\"\"\n",
        "    A PyTorch Dataset that uses the DataGenerator to produce data.\n",
        "    \"\"\"\n",
        "    def __init__(self, generator, num_samples=1000):\n",
        "        super(GeneratedDataset, self).__init__()\n",
        "        self.generator = generator\n",
        "        self.num_samples = num_samples\n",
        "        # Generate input data\n",
        "        self.x = torch.linspace(-10, 10, steps=num_samples).unsqueeze(1)  # (num_samples, 1)\n",
        "        # Generate output data\n",
        "        with torch.no_grad():\n",
        "            self.y = self.generator(self.x)\n",
        "\n",
        "    def __len__(self):\n",
        "        return self.num_samples\n",
        "\n",
        "    def __getitem__(self, idx):\n",
        "        return self.x[idx], self.y[idx]"
      ],
      "metadata": {
        "id": "f53dnZgqcAJC"
      },
      "execution_count": null,
      "outputs": []
    },
    {
      "cell_type": "code",
      "source": [
        "class MLP(nn.Module):\n",
        "    \"\"\"\n",
        "    A MLP for regression tasks.\n",
        "    \"\"\"\n",
        "    def __init__(self, input_size=1, output_size=1, hidden_sizes=[50], activation='ReLU'):\n",
        "        super(MLP, self).__init__()\n",
        "        layers = []\n",
        "        prev_size = input_size\n",
        "        act_fn = self.get_activation(activation)\n",
        "\n",
        "        for hidden_size in hidden_sizes:\n",
        "            layers.append(nn.Linear(prev_size, hidden_size))\n",
        "            layers.append(act_fn)\n",
        "            prev_size = hidden_size\n",
        "        layers.append(nn.Linear(prev_size, output_size))\n",
        "        self.network = nn.Sequential(*layers)\n",
        "\n",
        "    def get_activation(self, activation):\n",
        "        activations = {\n",
        "            'ReLU': nn.ReLU(),\n",
        "            'Sigmoid': nn.Sigmoid(),\n",
        "            'Tanh': nn.Tanh(),\n",
        "            'LeakyReLU': nn.LeakyReLU()\n",
        "        }\n",
        "        return activations.get(activation, nn.ReLU())\n",
        "\n",
        "    def forward(self, x):\n",
        "        return self.network(x)\n"
      ],
      "metadata": {
        "id": "1UY1Uq2rcL4Y"
      },
      "execution_count": null,
      "outputs": []
    },
    {
      "cell_type": "code",
      "source": [
        "\n",
        "def train(model, dataloader, criterion, optimizer, device):\n",
        "    model.train()\n",
        "    running_loss = 0.0\n",
        "    for inputs, targets in dataloader:\n",
        "        inputs = inputs.to(device)\n",
        "        targets = targets.to(device)\n",
        "\n",
        "        optimizer.zero_grad()\n",
        "        outputs = model(inputs)\n",
        "        loss = criterion(outputs, targets)\n",
        "        loss.backward()\n",
        "        optimizer.step()\n",
        "\n",
        "        running_loss += loss.item() * inputs.size(0)\n",
        "    epoch_loss = running_loss / len(dataloader.dataset)\n",
        "    return epoch_loss"
      ],
      "metadata": {
        "id": "V3M9T3sFb7UD"
      },
      "execution_count": null,
      "outputs": []
    },
    {
      "cell_type": "code",
      "source": [
        "\n",
        "def validate(model, dataloader, criterion, device):\n",
        "    model.eval()\n",
        "    running_loss = 0.0\n",
        "    with torch.no_grad():\n",
        "        for inputs, targets in dataloader:\n",
        "            inputs = inputs.to(device)\n",
        "            targets = targets.to(device)\n",
        "            outputs = model(inputs)\n",
        "            loss = criterion(outputs, targets)\n",
        "            running_loss += loss.item() * inputs.size(0)\n",
        "    epoch_loss = running_loss / len(dataloader.dataset)\n",
        "    return epoch_loss\n"
      ],
      "metadata": {
        "id": "CsM4TqoUb7Rh"
      },
      "execution_count": null,
      "outputs": []
    },
    {
      "cell_type": "code",
      "source": [
        "def plot_losses(train_losses, val_losses, config):\n",
        "    plt.figure(figsize=(10,6))\n",
        "    plt.plot(train_losses, label='Train Loss')\n",
        "    plt.plot(val_losses, label='Validation Loss')\n",
        "    plt.title(f\"Training and Validation Losses\\nConfig: Hidden Layers={config['hidden_sizes']}, Activation={config['activation']}\")\n",
        "    plt.xlabel('Epoch')\n",
        "    plt.ylabel('Loss')\n",
        "    plt.legend()\n",
        "    plt.grid(True)\n",
        "    plt.show()"
      ],
      "metadata": {
        "id": "CK_XBeZJb7Mu"
      },
      "execution_count": null,
      "outputs": []
    },
    {
      "cell_type": "code",
      "source": [
        "device = torch.device('cuda' if torch.cuda.is_available() else 'cpu')\n",
        "print(f\"Using device: {device}\")\n",
        "\n",
        "data_input_size = 1\n",
        "data_output_size = 100\n",
        "data_hidden_sizes = [5, 5, 5]\n",
        "data_activation = 'ReLU'\n",
        "num_samples = 10000\n",
        "\n",
        "data_generator = DataGenerator(input_size=data_input_size,\n",
        "                                output_size=data_output_size,\n",
        "                                hidden_sizes=data_hidden_sizes,\n",
        "                                activation=data_activation)\n",
        "\n",
        "dataset = GeneratedDataset(generator=data_generator, num_samples=num_samples)\n",
        "X = dataset.x.numpy()\n",
        "Y = dataset.y.numpy()\n",
        "\n",
        "X_train, X_val, Y_train, Y_val = train_test_split(X, Y, test_size=0.2, random_state=42)\n",
        "\n",
        "train_dataset = torch.utils.data.TensorDataset(torch.tensor(X_train, dtype=torch.float32),\n",
        "                                                torch.tensor(Y_train, dtype=torch.float32))\n",
        "val_dataset = torch.utils.data.TensorDataset(torch.tensor(X_val, dtype=torch.float32),\n",
        "                                              torch.tensor(Y_val, dtype=torch.float32))\n",
        "batch_size = 32\n",
        "train_loader = DataLoader(train_dataset, batch_size=batch_size, shuffle=True)\n",
        "val_loader = DataLoader(val_dataset, batch_size=batch_size, shuffle=False)\n",
        "\n",
        "configurations = [\n",
        "    # {'hidden_sizes': [10], 'activation': 'ReLU', 'learning_rate': 0.01},\n",
        "    {'hidden_sizes': [5, 5, 5, 5], 'activation': 'Tanh', 'learning_rate': 0.001},\n",
        "    # {'hidden_sizes': [100, 100, 100], 'activation': 'Sigmoid', 'learning_rate': 0.005},\n",
        "    # {'hidden_sizes': [20, 20], 'activation': 'LeakyReLU', 'learning_rate': 0.01},\n",
        "]\n",
        "\n",
        "num_epochs = 100\n",
        "\n",
        "for config in configurations:\n",
        "    print(f\"\\nTraining MLP with config: Hidden Sizes={config['hidden_sizes']}, Activation={config['activation']}, LR={config['learning_rate']}\")\n",
        "\n",
        "    mlp = MLP(input_size=data_input_size,\n",
        "              output_size=data_output_size,\n",
        "              hidden_sizes=config['hidden_sizes'],\n",
        "              activation=config['activation']).to(device)\n",
        "\n",
        "    criterion = nn.MSELoss()\n",
        "    optimizer = optim.Adam(mlp.parameters(), lr=config['learning_rate'])\n",
        "\n",
        "    train_losses = []\n",
        "    val_losses = []\n",
        "\n",
        "    for epoch in range(num_epochs):\n",
        "        train_loss = train(mlp, train_loader, criterion, optimizer, device)\n",
        "        val_loss = validate(mlp, val_loader, criterion, device)\n",
        "        train_losses.append(train_loss)\n",
        "        val_losses.append(val_loss)\n",
        "        if (epoch+1) % 20 == 0 or epoch == 0:\n",
        "            print(f\"Epoch [{epoch+1}/{num_epochs}] - Train Loss: {train_loss:.4f}, Val Loss: {val_loss:.4f}\")\n",
        "\n",
        "    plot_losses(train_losses, val_losses, config)\n",
        "\n",
        "    if val_losses[-1] < val_losses[0]:\n",
        "        print(\"The model has converged (validation loss decreased).\")\n",
        "    else:\n",
        "        print(\"The model did not converge (validation loss did not decrease).\")\n"
      ],
      "metadata": {
        "colab": {
          "base_uri": "https://localhost:8080/",
          "height": 759
        },
        "id": "SN87icJSb7W4",
        "outputId": "902d53f9-2af9-452a-bd99-ce6ac40fdde2"
      },
      "execution_count": null,
      "outputs": [
        {
          "output_type": "stream",
          "name": "stdout",
          "text": [
            "Using device: cuda\n",
            "\n",
            "Training MLP with config: Hidden Sizes=[5, 5, 5, 5], Activation=Tanh, LR=0.001\n",
            "Epoch [1/100] - Train Loss: 0.1088, Val Loss: 0.0271\n",
            "Epoch [20/100] - Train Loss: 0.0002, Val Loss: 0.0002\n",
            "Epoch [40/100] - Train Loss: 0.0001, Val Loss: 0.0001\n",
            "Epoch [60/100] - Train Loss: 0.0000, Val Loss: 0.0000\n",
            "Epoch [80/100] - Train Loss: 0.0000, Val Loss: 0.0000\n",
            "Epoch [100/100] - Train Loss: 0.0000, Val Loss: 0.0000\n"
          ]
        },
        {
          "output_type": "display_data",
          "data": {
            "text/plain": [
              "<Figure size 1000x600 with 1 Axes>"
            ],
            "image/png": "[encoded data removed]"
          },
          "metadata": {}
        },
        {
          "output_type": "stream",
          "name": "stdout",
          "text": [
            "The model has converged (validation loss decreased).\n"
          ]
        }
      ]
    },
    {
      "cell_type": "code",
      "source": [
        "print(\"Statistics of y:\")\n",
        "print(f\"Mean: {dataset.y.mean().item()}\")\n",
        "print(f\"Std Dev: {dataset.y.std().item()}\")\n",
        "print(f\"Min: {dataset.y.min().item()}\")\n",
        "print(f\"Max: {dataset.y.max().item()}\")\n"
      ],
      "metadata": {
        "colab": {
          "base_uri": "https://localhost:8080/"
        },
        "id": "t65zognCfUZ0",
        "outputId": "3c4019a6-681e-449b-bda8-c5de2714f612"
      },
      "execution_count": null,
      "outputs": [
        {
          "output_type": "stream",
          "name": "stdout",
          "text": [
            "Statistics of y:\n",
            "Mean: 0.02905740588903427\n",
            "Std Dev: 0.3746444582939148\n",
            "Min: -1.4558900594711304\n",
            "Max: 1.8567230701446533\n"
          ]
        }
      ]
    },
    {
      "cell_type": "code",
      "source": [],
      "metadata": {
        "id": "SirF5fuBfZ_j"
      },
      "execution_count": null,
      "outputs": []
    }
  ]
}